{
 "cells": [
  {
   "cell_type": "markdown",
   "id": "3f8efd93",
   "metadata": {},
   "source": [
    "Instalar e importar librerías"
   ]
  },
  {
   "cell_type": "code",
   "execution_count": 1,
   "id": "71e3a3c4",
   "metadata": {},
   "outputs": [
    {
     "name": "stdout",
     "output_type": "stream",
     "text": [
      "Requirement already satisfied: pandas in c:\\users\\play\\documents\\tareas\\ia\\env\\lib\\site-packages (2.3.1)\n",
      "Requirement already satisfied: seaborn in c:\\users\\play\\documents\\tareas\\ia\\env\\lib\\site-packages (0.13.2)\n",
      "Requirement already satisfied: nltk in c:\\users\\play\\documents\\tareas\\ia\\env\\lib\\site-packages (3.9.1)\n",
      "Requirement already satisfied: scikit-learn in c:\\users\\play\\documents\\tareas\\ia\\env\\lib\\site-packages (1.6.1)\n",
      "Requirement already satisfied: numpy>=1.26.0 in c:\\users\\play\\documents\\tareas\\ia\\env\\lib\\site-packages (from pandas) (2.3.1)\n",
      "Requirement already satisfied: python-dateutil>=2.8.2 in c:\\users\\play\\documents\\tareas\\ia\\env\\lib\\site-packages (from pandas) (2.9.0.post0)\n",
      "Requirement already satisfied: pytz>=2020.1 in c:\\users\\play\\documents\\tareas\\ia\\env\\lib\\site-packages (from pandas) (2025.2)\n",
      "Requirement already satisfied: tzdata>=2022.7 in c:\\users\\play\\documents\\tareas\\ia\\env\\lib\\site-packages (from pandas) (2025.2)\n",
      "Requirement already satisfied: matplotlib!=3.6.1,>=3.4 in c:\\users\\play\\documents\\tareas\\ia\\env\\lib\\site-packages (from seaborn) (3.10.3)\n",
      "Requirement already satisfied: click in c:\\users\\play\\documents\\tareas\\ia\\env\\lib\\site-packages (from nltk) (8.2.1)\n",
      "Requirement already satisfied: joblib in c:\\users\\play\\documents\\tareas\\ia\\env\\lib\\site-packages (from nltk) (1.5.1)\n",
      "Requirement already satisfied: regex>=2021.8.3 in c:\\users\\play\\documents\\tareas\\ia\\env\\lib\\site-packages (from nltk) (2024.11.6)\n",
      "Requirement already satisfied: tqdm in c:\\users\\play\\documents\\tareas\\ia\\env\\lib\\site-packages (from nltk) (4.67.1)\n",
      "Requirement already satisfied: scipy>=1.6.0 in c:\\users\\play\\documents\\tareas\\ia\\env\\lib\\site-packages (from scikit-learn) (1.16.0)\n",
      "Requirement already satisfied: threadpoolctl>=3.1.0 in c:\\users\\play\\documents\\tareas\\ia\\env\\lib\\site-packages (from scikit-learn) (3.6.0)\n",
      "Requirement already satisfied: contourpy>=1.0.1 in c:\\users\\play\\documents\\tareas\\ia\\env\\lib\\site-packages (from matplotlib!=3.6.1,>=3.4->seaborn) (1.3.2)\n",
      "Requirement already satisfied: cycler>=0.10 in c:\\users\\play\\documents\\tareas\\ia\\env\\lib\\site-packages (from matplotlib!=3.6.1,>=3.4->seaborn) (0.12.1)\n",
      "Requirement already satisfied: fonttools>=4.22.0 in c:\\users\\play\\documents\\tareas\\ia\\env\\lib\\site-packages (from matplotlib!=3.6.1,>=3.4->seaborn) (4.58.5)\n",
      "Requirement already satisfied: kiwisolver>=1.3.1 in c:\\users\\play\\documents\\tareas\\ia\\env\\lib\\site-packages (from matplotlib!=3.6.1,>=3.4->seaborn) (1.4.8)\n",
      "Requirement already satisfied: packaging>=20.0 in c:\\users\\play\\documents\\tareas\\ia\\env\\lib\\site-packages (from matplotlib!=3.6.1,>=3.4->seaborn) (25.0)\n",
      "Requirement already satisfied: pillow>=8 in c:\\users\\play\\documents\\tareas\\ia\\env\\lib\\site-packages (from matplotlib!=3.6.1,>=3.4->seaborn) (11.3.0)\n",
      "Requirement already satisfied: pyparsing>=2.3.1 in c:\\users\\play\\documents\\tareas\\ia\\env\\lib\\site-packages (from matplotlib!=3.6.1,>=3.4->seaborn) (3.2.3)\n",
      "Requirement already satisfied: six>=1.5 in c:\\users\\play\\documents\\tareas\\ia\\env\\lib\\site-packages (from python-dateutil>=2.8.2->pandas) (1.17.0)\n",
      "Requirement already satisfied: colorama in c:\\users\\play\\documents\\tareas\\ia\\env\\lib\\site-packages (from click->nltk) (0.4.6)\n",
      "Note: you may need to restart the kernel to use updated packages.\n"
     ]
    },
    {
     "name": "stderr",
     "output_type": "stream",
     "text": [
      "\n",
      "[notice] A new release of pip is available: 25.0.1 -> 25.1.1\n",
      "[notice] To update, run: python.exe -m pip install --upgrade pip\n"
     ]
    }
   ],
   "source": [
    "%pip install pandas seaborn nltk scikit-learn"
   ]
  },
  {
   "cell_type": "code",
   "execution_count": 2,
   "id": "ea3843a6",
   "metadata": {},
   "outputs": [],
   "source": [
    "import pandas as pd\n",
    "import seaborn as sns\n",
    "import nltk\n",
    "import re\n",
    "from nltk.corpus import stopwords\n",
    "from nltk.stem import PorterStemmer\n",
    "from sklearn.feature_extraction.text import CountVectorizer\n",
    "from sklearn.model_selection import train_test_split\n",
    "from sklearn.model_selection import cross_validate\n",
    "from sklearn.naive_bayes import MultinomialNB\n",
    "import statistics\n",
    "from sklearn.metrics import classification_report"
   ]
  },
  {
   "cell_type": "markdown",
   "id": "3ec67c12",
   "metadata": {},
   "source": [
    "Importar, explorar y limpiar Dataset"
   ]
  },
  {
   "cell_type": "code",
   "execution_count": 3,
   "id": "c2035f80",
   "metadata": {},
   "outputs": [
    {
     "data": {
      "text/html": [
       "<div>\n",
       "<style scoped>\n",
       "    .dataframe tbody tr th:only-of-type {\n",
       "        vertical-align: middle;\n",
       "    }\n",
       "\n",
       "    .dataframe tbody tr th {\n",
       "        vertical-align: top;\n",
       "    }\n",
       "\n",
       "    .dataframe thead th {\n",
       "        text-align: right;\n",
       "    }\n",
       "</style>\n",
       "<table border=\"1\" class=\"dataframe\">\n",
       "  <thead>\n",
       "    <tr style=\"text-align: right;\">\n",
       "      <th></th>\n",
       "      <th>Text</th>\n",
       "      <th>Emotion</th>\n",
       "    </tr>\n",
       "  </thead>\n",
       "  <tbody>\n",
       "    <tr>\n",
       "      <th>0</th>\n",
       "      <td>i didnt feel humiliated</td>\n",
       "      <td>sadness</td>\n",
       "    </tr>\n",
       "    <tr>\n",
       "      <th>1</th>\n",
       "      <td>i can go from feeling so hopeless to so damned...</td>\n",
       "      <td>sadness</td>\n",
       "    </tr>\n",
       "    <tr>\n",
       "      <th>2</th>\n",
       "      <td>im grabbing a minute to post i feel greedy wrong</td>\n",
       "      <td>anger</td>\n",
       "    </tr>\n",
       "    <tr>\n",
       "      <th>3</th>\n",
       "      <td>i am ever feeling nostalgic about the fireplac...</td>\n",
       "      <td>love</td>\n",
       "    </tr>\n",
       "    <tr>\n",
       "      <th>4</th>\n",
       "      <td>i am feeling grouchy</td>\n",
       "      <td>anger</td>\n",
       "    </tr>\n",
       "    <tr>\n",
       "      <th>5</th>\n",
       "      <td>ive been feeling a little burdened lately wasn...</td>\n",
       "      <td>sadness</td>\n",
       "    </tr>\n",
       "    <tr>\n",
       "      <th>6</th>\n",
       "      <td>ive been taking or milligrams or times recomme...</td>\n",
       "      <td>surprise</td>\n",
       "    </tr>\n",
       "    <tr>\n",
       "      <th>7</th>\n",
       "      <td>i feel as confused about life as a teenager or...</td>\n",
       "      <td>fear</td>\n",
       "    </tr>\n",
       "    <tr>\n",
       "      <th>8</th>\n",
       "      <td>i have been with petronas for years i feel tha...</td>\n",
       "      <td>happy</td>\n",
       "    </tr>\n",
       "    <tr>\n",
       "      <th>9</th>\n",
       "      <td>i feel romantic too</td>\n",
       "      <td>love</td>\n",
       "    </tr>\n",
       "  </tbody>\n",
       "</table>\n",
       "</div>"
      ],
      "text/plain": [
       "                                                Text   Emotion\n",
       "0                            i didnt feel humiliated   sadness\n",
       "1  i can go from feeling so hopeless to so damned...   sadness\n",
       "2   im grabbing a minute to post i feel greedy wrong     anger\n",
       "3  i am ever feeling nostalgic about the fireplac...      love\n",
       "4                               i am feeling grouchy     anger\n",
       "5  ive been feeling a little burdened lately wasn...   sadness\n",
       "6  ive been taking or milligrams or times recomme...  surprise\n",
       "7  i feel as confused about life as a teenager or...      fear\n",
       "8  i have been with petronas for years i feel tha...     happy\n",
       "9                                i feel romantic too      love"
      ]
     },
     "execution_count": 3,
     "metadata": {},
     "output_type": "execute_result"
    }
   ],
   "source": [
    "df = pd.read_csv('Emotion_final.csv', sep=',', encoding='utf-8')\n",
    "df.head(10)"
   ]
  },
  {
   "cell_type": "markdown",
   "id": "84df07aa",
   "metadata": {},
   "source": [
    "### Exploración de los datos"
   ]
  },
  {
   "cell_type": "code",
   "execution_count": 4,
   "id": "af689609",
   "metadata": {},
   "outputs": [
    {
     "name": "stdout",
     "output_type": "stream",
     "text": [
      "                                                     Text Emotion\n",
      "count                                               21459   21459\n",
      "unique                                              21405       6\n",
      "top     i feel more adventurous willing to take risks ...   happy\n",
      "freq                                                    2    7029 \n",
      "\n",
      "Text       0\n",
      "Emotion    0\n",
      "dtype: int64\n"
     ]
    }
   ],
   "source": [
    "print(df.describe(), '\\n')\n",
    "print(df.isna().sum())"
   ]
  },
  {
   "cell_type": "code",
   "execution_count": 5,
   "id": "6fc5b656",
   "metadata": {},
   "outputs": [
    {
     "data": {
      "text/plain": [
       "<Axes: xlabel='Emotion', ylabel='count'>"
      ]
     },
     "execution_count": 5,
     "metadata": {},
     "output_type": "execute_result"
    },
    {
     "data": {
      "image/png": "[encoded data removed]",
      "text/plain": [
       "<Figure size 640x480 with 1 Axes>"
      ]
     },
     "metadata": {},
     "output_type": "display_data"
    }
   ],
   "source": [
    "sns.countplot(x=df['Emotion'])"
   ]
  },
  {
   "cell_type": "markdown",
   "id": "3a5bafb0",
   "metadata": {},
   "source": [
    "### Procesar Texto"
   ]
  },
  {
   "cell_type": "code",
   "execution_count": 6,
   "id": "003b0d95",
   "metadata": {},
   "outputs": [
    {
     "name": "stderr",
     "output_type": "stream",
     "text": [
      "[nltk_data] Downloading package stopwords to\n",
      "[nltk_data]     C:\\Users\\Play\\AppData\\Roaming\\nltk_data...\n",
      "[nltk_data]   Package stopwords is already up-to-date!\n"
     ]
    }
   ],
   "source": [
    "nltk.download('stopwords')\n",
    "stemmer = PorterStemmer()\n",
    "stop_words = set(stopwords.words('english'))\n",
    "\n",
    "#mantiene las negaciones, ya que pueden influir en casos de emociones negadas\n",
    "#negaciones = {\"not\", \"no\", \"nt\", \"never\", \"none\", \"nobody\", \"neither\", \"nor\", \"nothing\", \"nowhere\", \"without\"}\n",
    "#stop_words = stop_words-negaciones\n",
    "\n",
    "\n",
    "def procesar_texto(texto):\n",
    "    texto = texto.lower()\n",
    "    texto = re.sub(r' http\\S+| www\\S+| href\\S+| src\\S+', '', texto) #elimina enlaces\n",
    "    texto = re.sub(r' http+| www+| href+| src+', '', texto) #elimina palabras sin sentido de enlaces\n",
    "    texto = re.sub(r'@[\\w]+','', texto) #elimina menciones de usuario\n",
    "    texto = re.sub(r'#\\w+','', texto) #elimina hashtags\n",
    "    texto = re.sub(r'[^a-záéíóúüñ\\s]','', texto) #elimina palabras tildadas o caracteres especiales\n",
    "    \n",
    "    words = texto.split()\n",
    "    words = [stemmer.stem(word) for word in words if word not in stop_words]\n",
    "    processed_texto = ' '.join(words)\n",
    "    return processed_texto"
   ]
  },
  {
   "cell_type": "code",
   "execution_count": 7,
   "id": "f6ee6578",
   "metadata": {},
   "outputs": [
    {
     "data": {
      "text/html": [
       "<div>\n",
       "<style scoped>\n",
       "    .dataframe tbody tr th:only-of-type {\n",
       "        vertical-align: middle;\n",
       "    }\n",
       "\n",
       "    .dataframe tbody tr th {\n",
       "        vertical-align: top;\n",
       "    }\n",
       "\n",
       "    .dataframe thead th {\n",
       "        text-align: right;\n",
       "    }\n",
       "</style>\n",
       "<table border=\"1\" class=\"dataframe\">\n",
       "  <thead>\n",
       "    <tr style=\"text-align: right;\">\n",
       "      <th></th>\n",
       "      <th>Text</th>\n",
       "      <th>Emotion</th>\n",
       "      <th>texto_procesado</th>\n",
       "    </tr>\n",
       "  </thead>\n",
       "  <tbody>\n",
       "    <tr>\n",
       "      <th>0</th>\n",
       "      <td>i didnt feel humiliated</td>\n",
       "      <td>sadness</td>\n",
       "      <td>didnt feel humili</td>\n",
       "    </tr>\n",
       "    <tr>\n",
       "      <th>1</th>\n",
       "      <td>i can go from feeling so hopeless to so damned...</td>\n",
       "      <td>sadness</td>\n",
       "      <td>go feel hopeless damn hope around someon care ...</td>\n",
       "    </tr>\n",
       "    <tr>\n",
       "      <th>2</th>\n",
       "      <td>im grabbing a minute to post i feel greedy wrong</td>\n",
       "      <td>anger</td>\n",
       "      <td>im grab minut post feel greedi wrong</td>\n",
       "    </tr>\n",
       "    <tr>\n",
       "      <th>3</th>\n",
       "      <td>i am ever feeling nostalgic about the fireplac...</td>\n",
       "      <td>love</td>\n",
       "      <td>ever feel nostalg fireplac know still properti</td>\n",
       "    </tr>\n",
       "    <tr>\n",
       "      <th>4</th>\n",
       "      <td>i am feeling grouchy</td>\n",
       "      <td>anger</td>\n",
       "      <td>feel grouchi</td>\n",
       "    </tr>\n",
       "    <tr>\n",
       "      <th>...</th>\n",
       "      <td>...</td>\n",
       "      <td>...</td>\n",
       "      <td>...</td>\n",
       "    </tr>\n",
       "    <tr>\n",
       "      <th>21454</th>\n",
       "      <td>Melissa stared at her friend in dism</td>\n",
       "      <td>fear</td>\n",
       "      <td>melissa stare friend dism</td>\n",
       "    </tr>\n",
       "    <tr>\n",
       "      <th>21455</th>\n",
       "      <td>Successive state elections have seen the gover...</td>\n",
       "      <td>fear</td>\n",
       "      <td>success state elect seen govern parti pummel d...</td>\n",
       "    </tr>\n",
       "    <tr>\n",
       "      <th>21456</th>\n",
       "      <td>Vincent was irritated but not dismay</td>\n",
       "      <td>fear</td>\n",
       "      <td>vincent irrit dismay</td>\n",
       "    </tr>\n",
       "    <tr>\n",
       "      <th>21457</th>\n",
       "      <td>Kendall-Hume turned back to face the dismayed ...</td>\n",
       "      <td>fear</td>\n",
       "      <td>kendallhum turn back face dismay coup</td>\n",
       "    </tr>\n",
       "    <tr>\n",
       "      <th>21458</th>\n",
       "      <td>I am dismayed , but not surpris</td>\n",
       "      <td>fear</td>\n",
       "      <td>dismay surpri</td>\n",
       "    </tr>\n",
       "  </tbody>\n",
       "</table>\n",
       "<p>21459 rows × 3 columns</p>\n",
       "</div>"
      ],
      "text/plain": [
       "                                                    Text  Emotion  \\\n",
       "0                                i didnt feel humiliated  sadness   \n",
       "1      i can go from feeling so hopeless to so damned...  sadness   \n",
       "2       im grabbing a minute to post i feel greedy wrong    anger   \n",
       "3      i am ever feeling nostalgic about the fireplac...     love   \n",
       "4                                   i am feeling grouchy    anger   \n",
       "...                                                  ...      ...   \n",
       "21454               Melissa stared at her friend in dism     fear   \n",
       "21455  Successive state elections have seen the gover...     fear   \n",
       "21456               Vincent was irritated but not dismay     fear   \n",
       "21457  Kendall-Hume turned back to face the dismayed ...     fear   \n",
       "21458                    I am dismayed , but not surpris     fear   \n",
       "\n",
       "                                         texto_procesado  \n",
       "0                                      didnt feel humili  \n",
       "1      go feel hopeless damn hope around someon care ...  \n",
       "2                   im grab minut post feel greedi wrong  \n",
       "3         ever feel nostalg fireplac know still properti  \n",
       "4                                           feel grouchi  \n",
       "...                                                  ...  \n",
       "21454                          melissa stare friend dism  \n",
       "21455  success state elect seen govern parti pummel d...  \n",
       "21456                               vincent irrit dismay  \n",
       "21457              kendallhum turn back face dismay coup  \n",
       "21458                                      dismay surpri  \n",
       "\n",
       "[21459 rows x 3 columns]"
      ]
     },
     "execution_count": 7,
     "metadata": {},
     "output_type": "execute_result"
    }
   ],
   "source": [
    "df[\"texto_procesado\"] = df['Text'].apply(procesar_texto)\n",
    "df"
   ]
  },
  {
   "cell_type": "code",
   "execution_count": 8,
   "id": "35742d0f",
   "metadata": {},
   "outputs": [
    {
     "name": "stdout",
     "output_type": "stream",
     "text": [
      "[0, 1, 2, 3, 4, 5]\n",
      "['sadness', 'anger', 'love', 'surprise', 'fear', 'happy']\n"
     ]
    },
    {
     "data": {
      "text/html": [
       "<div>\n",
       "<style scoped>\n",
       "    .dataframe tbody tr th:only-of-type {\n",
       "        vertical-align: middle;\n",
       "    }\n",
       "\n",
       "    .dataframe tbody tr th {\n",
       "        vertical-align: top;\n",
       "    }\n",
       "\n",
       "    .dataframe thead th {\n",
       "        text-align: right;\n",
       "    }\n",
       "</style>\n",
       "<table border=\"1\" class=\"dataframe\">\n",
       "  <thead>\n",
       "    <tr style=\"text-align: right;\">\n",
       "      <th></th>\n",
       "      <th>Text</th>\n",
       "      <th>Emotion</th>\n",
       "      <th>texto_procesado</th>\n",
       "    </tr>\n",
       "  </thead>\n",
       "  <tbody>\n",
       "    <tr>\n",
       "      <th>0</th>\n",
       "      <td>i didnt feel humiliated</td>\n",
       "      <td>0</td>\n",
       "      <td>didnt feel humili</td>\n",
       "    </tr>\n",
       "    <tr>\n",
       "      <th>1</th>\n",
       "      <td>i can go from feeling so hopeless to so damned...</td>\n",
       "      <td>0</td>\n",
       "      <td>go feel hopeless damn hope around someon care ...</td>\n",
       "    </tr>\n",
       "    <tr>\n",
       "      <th>2</th>\n",
       "      <td>im grabbing a minute to post i feel greedy wrong</td>\n",
       "      <td>1</td>\n",
       "      <td>im grab minut post feel greedi wrong</td>\n",
       "    </tr>\n",
       "    <tr>\n",
       "      <th>3</th>\n",
       "      <td>i am ever feeling nostalgic about the fireplac...</td>\n",
       "      <td>2</td>\n",
       "      <td>ever feel nostalg fireplac know still properti</td>\n",
       "    </tr>\n",
       "    <tr>\n",
       "      <th>4</th>\n",
       "      <td>i am feeling grouchy</td>\n",
       "      <td>1</td>\n",
       "      <td>feel grouchi</td>\n",
       "    </tr>\n",
       "    <tr>\n",
       "      <th>...</th>\n",
       "      <td>...</td>\n",
       "      <td>...</td>\n",
       "      <td>...</td>\n",
       "    </tr>\n",
       "    <tr>\n",
       "      <th>21454</th>\n",
       "      <td>Melissa stared at her friend in dism</td>\n",
       "      <td>4</td>\n",
       "      <td>melissa stare friend dism</td>\n",
       "    </tr>\n",
       "    <tr>\n",
       "      <th>21455</th>\n",
       "      <td>Successive state elections have seen the gover...</td>\n",
       "      <td>4</td>\n",
       "      <td>success state elect seen govern parti pummel d...</td>\n",
       "    </tr>\n",
       "    <tr>\n",
       "      <th>21456</th>\n",
       "      <td>Vincent was irritated but not dismay</td>\n",
       "      <td>4</td>\n",
       "      <td>vincent irrit dismay</td>\n",
       "    </tr>\n",
       "    <tr>\n",
       "      <th>21457</th>\n",
       "      <td>Kendall-Hume turned back to face the dismayed ...</td>\n",
       "      <td>4</td>\n",
       "      <td>kendallhum turn back face dismay coup</td>\n",
       "    </tr>\n",
       "    <tr>\n",
       "      <th>21458</th>\n",
       "      <td>I am dismayed , but not surpris</td>\n",
       "      <td>4</td>\n",
       "      <td>dismay surpri</td>\n",
       "    </tr>\n",
       "  </tbody>\n",
       "</table>\n",
       "<p>21459 rows × 3 columns</p>\n",
       "</div>"
      ],
      "text/plain": [
       "                                                    Text  Emotion  \\\n",
       "0                                i didnt feel humiliated        0   \n",
       "1      i can go from feeling so hopeless to so damned...        0   \n",
       "2       im grabbing a minute to post i feel greedy wrong        1   \n",
       "3      i am ever feeling nostalgic about the fireplac...        2   \n",
       "4                                   i am feeling grouchy        1   \n",
       "...                                                  ...      ...   \n",
       "21454               Melissa stared at her friend in dism        4   \n",
       "21455  Successive state elections have seen the gover...        4   \n",
       "21456               Vincent was irritated but not dismay        4   \n",
       "21457  Kendall-Hume turned back to face the dismayed ...        4   \n",
       "21458                    I am dismayed , but not surpris        4   \n",
       "\n",
       "                                         texto_procesado  \n",
       "0                                      didnt feel humili  \n",
       "1      go feel hopeless damn hope around someon care ...  \n",
       "2                   im grab minut post feel greedi wrong  \n",
       "3         ever feel nostalg fireplac know still properti  \n",
       "4                                           feel grouchi  \n",
       "...                                                  ...  \n",
       "21454                          melissa stare friend dism  \n",
       "21455  success state elect seen govern parti pummel d...  \n",
       "21456                               vincent irrit dismay  \n",
       "21457              kendallhum turn back face dismay coup  \n",
       "21458                                      dismay surpri  \n",
       "\n",
       "[21459 rows x 3 columns]"
      ]
     },
     "execution_count": 8,
     "metadata": {},
     "output_type": "execute_result"
    }
   ],
   "source": [
    "target_idx = []\n",
    "target_emotions = []\n",
    "for idx, emocion in enumerate(df['Emotion'].unique()):\n",
    "    target_idx.append(idx)\n",
    "    target_emotions.append(emocion)\n",
    "\n",
    "print(target_idx)\n",
    "print(target_emotions)\n",
    "\n",
    "df['Emotion'] = df['Emotion'].apply(lambda emotion: target_emotions.index(emotion))\n",
    "df"
   ]
  },
  {
   "cell_type": "code",
   "execution_count": null,
   "id": "ba2f5c07",
   "metadata": {},
   "outputs": [
    {
     "data": {
      "text/plain": [
       "<Compressed Sparse Row sparse matrix of dtype 'int64'\n",
       "\twith 140662 stored elements and shape (16094, 10000)>"
      ]
     },
     "execution_count": 9,
     "metadata": {},
     "output_type": "execute_result"
    }
   ],
   "source": [
    "vectorizer = CountVectorizer(max_features = 10000)\n",
    "vectorizer.fit(df[\"texto_procesado\"])\n",
    "X_train, X_test, y_train, y_test = train_test_split(df[[\"texto_procesado\"]], df[\"Emotion\"], test_size=0.20, random_state=42)\n",
    "X_train_counts = vectorizer.transform(X_train[\"texto_procesado\"])\n",
    "X_test_counts = vectorizer.transform(X_test[\"texto_procesado\"])\n",
    "X_train_counts"
   ]
  },
  {
   "cell_type": "code",
   "execution_count": 10,
   "id": "877c1f34",
   "metadata": {},
   "outputs": [
    {
     "name": "stdout",
     "output_type": "stream",
     "text": [
      "<Compressed Sparse Row sparse matrix of dtype 'int64'\n",
      "\twith 140662 stored elements and shape (16094, 10000)>\n",
      "  Coords\tValues\n",
      "  (0, 174)\t1\n",
      "  (0, 2451)\t1\n",
      "  (0, 2796)\t1\n",
      "  (0, 8320)\t1\n",
      "  (1, 34)\t1\n",
      "  (1, 737)\t1\n",
      "  (1, 2451)\t1\n",
      "  (1, 5245)\t1\n",
      "  (1, 7261)\t1\n",
      "  (1, 7890)\t1\n",
      "  (1, 8024)\t1\n",
      "  (1, 8707)\t1\n",
      "  (2, 729)\t1\n",
      "  (2, 1510)\t1\n",
      "  (2, 2280)\t1\n",
      "  (2, 2451)\t1\n",
      "  (2, 2851)\t1\n",
      "  (2, 3895)\t1\n",
      "  (2, 3919)\t1\n",
      "  (2, 5111)\t1\n",
      "  (2, 5167)\t1\n",
      "  (2, 8600)\t1\n",
      "  (3, 56)\t1\n",
      "  (3, 409)\t1\n",
      "  (3, 1358)\t1\n",
      "  :\t:\n",
      "  (16090, 3264)\t1\n",
      "  (16090, 3475)\t1\n",
      "  (16090, 3785)\t1\n",
      "  (16090, 3933)\t2\n",
      "  (16090, 4831)\t1\n",
      "  (16090, 6994)\t1\n",
      "  (16090, 7499)\t1\n",
      "  (16090, 7607)\t1\n",
      "  (16090, 8504)\t1\n",
      "  (16090, 9207)\t1\n",
      "  (16090, 9754)\t2\n",
      "  (16090, 9890)\t2\n",
      "  (16090, 9948)\t1\n",
      "  (16091, 1480)\t1\n",
      "  (16091, 2451)\t1\n",
      "  (16092, 2451)\t1\n",
      "  (16092, 5058)\t1\n",
      "  (16092, 8837)\t1\n",
      "  (16092, 8907)\t1\n",
      "  (16093, 2451)\t1\n",
      "  (16093, 6095)\t1\n",
      "  (16093, 8461)\t1\n",
      "  (16093, 8907)\t1\n",
      "  (16093, 9274)\t1\n",
      "  (16093, 9898)\t1\n"
     ]
    }
   ],
   "source": [
    "print(X_train_counts)"
   ]
  },
  {
   "cell_type": "markdown",
   "id": "bf406345",
   "metadata": {},
   "source": [
    "### Evaluar Rendimiento"
   ]
  },
  {
   "cell_type": "code",
   "execution_count": 13,
   "id": "fe04097d",
   "metadata": {},
   "outputs": [
    {
     "name": "stdout",
     "output_type": "stream",
     "text": [
      "f1 prom:  0.7248364877634964\n",
      "Accuracy prom:  0.7482284703412634\n"
     ]
    }
   ],
   "source": [
    "multiNB = MultinomialNB()\n",
    "\n",
    "#Utilizando Cross validation\n",
    "cv_results = cross_validate(multiNB, X_train_counts, y_train, cv=4, scoring=['f1_weighted', 'accuracy'])\n",
    "print(\"f1 prom: \", cv_results['test_f1_weighted'].mean())\n",
    "print(\"Accuracy prom: \", cv_results['test_accuracy'].mean())"
   ]
  },
  {
   "cell_type": "code",
   "execution_count": 17,
   "id": "d90dce21",
   "metadata": {},
   "outputs": [
    {
     "name": "stdout",
     "output_type": "stream",
     "text": [
      "              precision    recall  f1-score   support\n",
      "\n",
      "     sadness       0.77      0.90      0.83      1625\n",
      "       anger       0.88      0.67      0.76       764\n",
      "        love       0.78      0.36      0.49       396\n",
      "    surprise       0.71      0.18      0.29       204\n",
      "        fear       0.81      0.64      0.71       661\n",
      "       happy       0.74      0.91      0.81      1715\n",
      "\n",
      "    accuracy                           0.77      5365\n",
      "   macro avg       0.78      0.61      0.65      5365\n",
      "weighted avg       0.78      0.77      0.76      5365\n",
      "\n"
     ]
    }
   ],
   "source": [
    "multiNB = MultinomialNB()\n",
    "multiNB.fit(X_train_counts, y_train)\n",
    "y_pred_multiNM = multiNB.predict(X_test_counts)\n",
    "print(classification_report(y_test, y_pred_multiNM, target_names=target_emotions))"
   ]
  }
 ],
 "metadata": {
  "kernelspec": {
   "display_name": "env",
   "language": "python",
   "name": "python3"
  },
  "language_info": {
   "codemirror_mode": {
    "name": "ipython",
    "version": 3
   },
   "file_extension": ".py",
   "mimetype": "text/x-python",
   "name": "python",
   "nbconvert_exporter": "python",
   "pygments_lexer": "ipython3",
   "version": "3.12.10"
  }
 },
 "nbformat": 4,
 "nbformat_minor": 5
}
